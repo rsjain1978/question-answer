{
 "cells": [
  {
   "cell_type": "markdown",
   "metadata": {},
   "source": [
    "### Summary:\n",
    "\n",
    "This is a QnA service implementation using \n",
    "\n",
    "    # Simple Transformers (https://github.com/ThilinaRajapakse/simpletransformers) library and \n",
    "    # DistilBERT language model (https://github.com/huggingface/transformers/tree/master/examples/distillation)"
   ]
  },
  {
   "cell_type": "code",
   "execution_count": 1,
   "metadata": {},
   "outputs": [],
   "source": [
    "#!pip install simpletransformers"
   ]
  },
  {
   "cell_type": "code",
   "execution_count": 2,
   "metadata": {},
   "outputs": [],
   "source": [
    "from simpletransformers.question_answering import QuestionAnsweringModel\n",
    "import os\n",
    "import json"
   ]
  },
  {
   "cell_type": "code",
   "execution_count": 3,
   "metadata": {},
   "outputs": [],
   "source": [
    "# Create dummy data to use for training.\n",
    "train_data = [\n",
    "    {\n",
    "        'context': \"This is the first context\",\n",
    "        'qas': [\n",
    "            {\n",
    "                'id': \"00001\",\n",
    "                'is_impossible': False,\n",
    "                'question': \"Which context is this?\",\n",
    "                'answers': [\n",
    "                    {\n",
    "                        'text': \"the first\",\n",
    "                        'answer_start': 8\n",
    "                    }\n",
    "                ]\n",
    "            }\n",
    "        ]\n",
    "    }\n",
    "]"
   ]
  },
  {
   "cell_type": "code",
   "execution_count": 4,
   "metadata": {},
   "outputs": [],
   "source": [
    "# save as json file\n",
    "os.makedirs('simpletransformers-training-data', exist_ok=True)\n",
    "with open('simpletransformers-training-data/train.json','w') as f:\n",
    "    json.dump(train_data, f)"
   ]
  },
  {
   "cell_type": "code",
   "execution_count": 6,
   "metadata": {},
   "outputs": [],
   "source": [
    "# create QuestionAnsweringMode\n",
    "qnaModel = QuestionAnsweringModel('distilbert','distilbert-base-uncased-distilled-squad', args={'reprocess_input_data': True, 'overwrite_output_dir': True},use_cuda=False)"
   ]
  },
  {
   "cell_type": "code",
   "execution_count": 7,
   "metadata": {},
   "outputs": [
    {
     "name": "stdout",
     "output_type": "stream",
     "text": [
      "Converting to features started.\n"
     ]
    },
    {
     "name": "stderr",
     "output_type": "stream",
     "text": [
      "100%|████████████████████████████████████████████████████████████████████████████████████████████████████████████████████████████████████████████████████| 1/1 [00:00<00:00, 1001.98it/s]\n"
     ]
    },
    {
     "data": {
      "application/vnd.jupyter.widget-view+json": {
       "model_id": "fa94356844214709ad7185bcc00f059f",
       "version_major": 2,
       "version_minor": 0
      },
      "text/plain": [
       "HBox(children=(IntProgress(value=0, description='Epoch', max=1, style=ProgressStyle(description_width='initial…"
      ]
     },
     "metadata": {},
     "output_type": "display_data"
    },
    {
     "data": {
      "application/vnd.jupyter.widget-view+json": {
       "model_id": "23c1756ef7eb43d99b1ce31a5fbc8fe9",
       "version_major": 2,
       "version_minor": 0
      },
      "text/plain": [
       "HBox(children=(IntProgress(value=0, description='Current iteration', max=1, style=ProgressStyle(description_wi…"
      ]
     },
     "metadata": {},
     "output_type": "display_data"
    },
    {
     "name": "stdout",
     "output_type": "stream",
     "text": [
      "Running loss: 0.819692\n",
      "Training of distilbert model complete. Saved to outputs/.\n"
     ]
    }
   ],
   "source": [
    "# train the model\n",
    "qnaModel.train_model('simpletransformers-training-data/train.json')"
   ]
  },
  {
   "cell_type": "code",
   "execution_count": 8,
   "metadata": {},
   "outputs": [
    {
     "name": "stdout",
     "output_type": "stream",
     "text": [
      "Converting to features started.\n"
     ]
    },
    {
     "name": "stderr",
     "output_type": "stream",
     "text": [
      "100%|█████████████████████████████████████████████████████████████████████████████████████████████████████████████████████████████████████████████████████| 1/1 [00:00<00:00, 998.41it/s]\n"
     ]
    },
    {
     "data": {
      "application/vnd.jupyter.widget-view+json": {
       "model_id": "934193b89ca8484a961aa44f35efec4c",
       "version_major": 2,
       "version_minor": 0
      },
      "text/plain": [
       "HBox(children=(IntProgress(value=0, max=1), HTML(value='')))"
      ]
     },
     "metadata": {},
     "output_type": "display_data"
    },
    {
     "name": "stdout",
     "output_type": "stream",
     "text": [
      "\n",
      "[{'context': 'This is the first context', 'qas': [{'id': '00001', 'is_impossible': False, 'question': 'Which context is this?', 'answers': [{'text': 'the first', 'answer_start': 8}]}]}]\n",
      "{'correct': 1, 'similar': 0, 'incorrect': 0}\n",
      "{'correct_text': {'00001': 'the first'}, 'similar_text': {}, 'incorrect_text': {}}\n"
     ]
    }
   ],
   "source": [
    "# evaluate the model\n",
    "result, text = qnaModel.eval_model('simpletransformers-training-data/train.json')\n",
    "print (result)\n",
    "print (text)"
   ]
  },
  {
   "cell_type": "code",
   "execution_count": 21,
   "metadata": {},
   "outputs": [
    {
     "name": "stdout",
     "output_type": "stream",
     "text": [
      "Converting to features started.\n"
     ]
    },
    {
     "name": "stderr",
     "output_type": "stream",
     "text": [
      "100%|█████████████████████████████████████████████████████████████████████████████████████████████████████████████████████████████████████████████████████| 1/1 [00:00<00:00, 249.47it/s]\n"
     ]
    },
    {
     "data": {
      "application/vnd.jupyter.widget-view+json": {
       "model_id": "8361ee6b2ea84e2cb092f85ec75e5c03",
       "version_major": 2,
       "version_minor": 0
      },
      "text/plain": [
       "HBox(children=(IntProgress(value=0, max=1), HTML(value='')))"
      ]
     },
     "metadata": {},
     "output_type": "display_data"
    },
    {
     "name": "stdout",
     "output_type": "stream",
     "text": [
      "\n",
      "[{'id': '3', 'answer': '13 years of investment experience'}]\n"
     ]
    }
   ],
   "source": [
    "# prediction using the model\n",
    "to_predict=[{\n",
    "    'context': \"lex Wright has 13 years of investment experience. He joined Fidelity in 2001 as a European equity research analyst, successively covering building materials, alcoholic beverages, leisure, emerging European and African banks and UK small-cap stocks. He became portfolio manager of the Fidelity UK Smaller Companies Fund in 2008. He continues to manage this fund alongside the Fidelity Special Situations Fund and the Fidelity Special Values PLC, which he started managing in 2012.\",\n",
    "    'qas': [{\n",
    "        'question': \"Who managed fidelity special situations fund\",'id':'0', ## Right\n",
    "        'question': \"When did lex joined fidelity\",'id':'1', ## Right\n",
    "        'question': \"which role did lex joined fidelity\",'id':'2', ## Right\n",
    "        'question': \"how many funds does lex manages\",'id':'3'  ##Wrong\n",
    "    }]\n",
    "}]\n",
    "prediction = qnaModel.predict(to_predict)\n",
    "print (prediction)"
   ]
  },
  {
   "cell_type": "code",
   "execution_count": null,
   "metadata": {},
   "outputs": [],
   "source": []
  }
 ],
 "metadata": {
  "kernelspec": {
   "display_name": "Python 3",
   "language": "python",
   "name": "python3"
  },
  "language_info": {
   "codemirror_mode": {
    "name": "ipython",
    "version": 3
   },
   "file_extension": ".py",
   "mimetype": "text/x-python",
   "name": "python",
   "nbconvert_exporter": "python",
   "pygments_lexer": "ipython3",
   "version": "3.7.3"
  }
 },
 "nbformat": 4,
 "nbformat_minor": 2
}
